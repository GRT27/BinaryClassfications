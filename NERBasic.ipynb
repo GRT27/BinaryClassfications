{
  "cells": [
    {
      "cell_type": "markdown",
      "metadata": {
        "id": "view-in-github",
        "colab_type": "text"
      },
      "source": [
        "<a href=\"https://colab.research.google.com/github/GRT27/BinaryClassfications/blob/main/NERBasic.ipynb\" target=\"_parent\"><img src=\"https://colab.research.google.com/assets/colab-badge.svg\" alt=\"Open In Colab\"/></a>"
      ]
    },
    {
      "cell_type": "code",
      "execution_count": null,
      "metadata": {
        "colab": {
          "background_save": true
        },
        "id": "bBkWaPbbBVrh",
        "outputId": "ed08efeb-65a5-4ff0-b45b-d4d9604f275f"
      },
      "outputs": [
        {
          "data": {
            "text/plain": [
              "['tok2vec', 'tagger', 'parser', 'attribute_ruler', 'lemmatizer', 'ner']"
            ]
          },
          "execution_count": 1,
          "metadata": {},
          "output_type": "execute_result"
        }
      ],
      "source": [
        "# Load a spacy model and chekc if it has ner\n",
        "import spacy\n",
        "nlp=spacy.load('en_core_web_sm')\n",
        "\n",
        "nlp.pipe_names"
      ]
    },
    {
      "cell_type": "code",
      "source": [
        "# Performing NER on E-commerce article\n",
        "\n",
        "article_text=\"\"\"India that previously comprised only a handful of players in the e-commerce space, is now home to many biggies and giants battling out with each other to reach the top. This is thanks to the overwhelming internet and smartphone penetration coupled with the ever-increasing digital adoption across the country. These new-age innovations not only gave emerging startups a unique platform to deliver seamless shopping experiences but also provided brick and mortar stores with a level-playing field to begin their online journeys without leaving their offline legacies.\n",
        "In the wake of so many players coming together on one platform, the Indian e-commerce market is envisioned to reach USD 84 billion in 2021 from USD 24 billion in 2017. Further, with the rate at which internet penetration is increasing, we can expect more and more international retailers coming to India in addition to a large pool of new startups. This, in turn, will provide a major Philip to the organized retail market and boost its share from 12% in 2017 to 22-25% by 2021.\n",
        "Here’s a view to the e-commerce giants that are dominating India’s online shopping space:\n",
        "Amazon – One of the uncontested global leaders, Amazon started its journey as a simple online bookstore that gradually expanded its reach to provide a large suite of diversified products including media, furniture, food, and electronics, among others. And now with the launch of Amazon Prime and Amazon Music Limited, it has taken customer experience to a godly level, which will remain undefeatable for a very long time.\n",
        "\n",
        "Flipkart – Founded in 2007, Flipkart is recognized as the national leader in the Indian e-commerce market. Just like Amazon, it started operating by selling books and then entered other categories such as electronics, fashion, and lifestyle, mobile phones, etc. And now that it has been acquired by Walmart, one of the largest leading platforms of e-commerce in the US, it has also raised its bar of customer offerings in all aspects and giving huge competition to Amazon.\n",
        "\n",
        "Snapdeal – Started as a daily deals platform in 2010, Snapdeal became a full-fledged online marketplace in 2011 comprising more than 3 lac sellers across India. The platform offers over 30 million products across 800+ diverse categories from over 125,000 regional, national, and international brands and retailers. The Indian e-commerce firm follows a robust strategy to stay at the forefront of innovation and deliver seamless customer offerings to its wide customer base. It has shown great potential for recovery in recent years despite losing Freecharge and Unicommerce.\n",
        "\n",
        "ShopClues – Another renowned name in the Indian e-commerce industry, ShopClues was founded in July 2011. It’s a Gurugram based company having a current valuation of INR 1.1 billion and is backed by prominent names including Nexus Venture Partners, Tiger Global, and Helion Ventures as its major investors. Presently, the platform comprises more than 5 lac sellers selling products in nine different categories such as computers, cameras, mobiles, etc.\n",
        "\n",
        "Paytm Mall – To compete with the existing e-commerce giants, Paytm, an online payment system has also launched its online marketplace – Paytm Mall, which offers a wide array of products ranging from men and women fashion to groceries and cosmetics, electronics and home products, and many more. The unique thing about this platform is that it serves as a medium for third parties to sell their products directly through the widely-known app – Paytm.\n",
        "\n",
        "Reliance Retail – Given Reliance Jio’s disruptive venture in the Indian telecom space along with a solid market presence of Reliance, it is no wonder that Reliance will soon be foraying into retail space. As of now, it has plans to build an e-commerce space that will be established on online-to-offline market program and aim to bring local merchants on board to help them boost their sales and compete with the existing industry leaders.\n",
        "Big Basket – India’s biggest online supermarket, Big Basket provides a wide variety of imported and gourmet products through two types of delivery services – express delivery and slotted delivery. It also offers pre-cut fruits along with a long list of beverages including fresh juices, cold drinks, hot teas, etc. Moreover, it not only provides farm-fresh products but also ensures that the farmer gets better prices.\n",
        "\n",
        "Grofers – One of the leading e-commerce players in the grocery segment, Grofers started its operations in 2013 and has reached overwhelming heights in the last 5 years. Its wide range of products includes atta, milk, oil, daily need products, vegetables, dairy products, juices, beverages, among others. With its growing reach across India, it has become one of the favorite supermarkets for Indian consumers who want to shop grocery items from the comforts of their homes.\n",
        "\n",
        "Digital Mall of Asia – Going live in 2020, Digital Mall of Asia is a very unique concept coined by the founders of Yokeasia Malls. It is designed to provide an immersive digital space equipped with multiple visual and sensory elements to sellers and shoppers. It will also give retailers exclusive rights to sell a particular product category or brand in their respective cities. What makes it unique is its zero-commission model enabling retailers to pay only a fixed amount of monthly rental instead of paying commissions. With its one-of-a-kind features, DMA is expected to bring\n",
        "never-seen transformation to the current e-commerce ecosystem while addressing all the existing e-commerce worries such as counterfeiting. \"\"\"\n",
        "\n",
        "doc=nlp(article_text)\n",
        "for ent in doc.ents:\n",
        "  print(ent.text,ent.label_)"
      ],
      "metadata": {
        "colab": {
          "base_uri": "https://localhost:8080/"
        },
        "id": "W1j7ZSsaDTAy",
        "outputId": "c2d8a9bc-2814-4595-94bc-f54fe246bc1d"
      },
      "execution_count": null,
      "outputs": [
        {
          "output_type": "stream",
          "name": "stdout",
          "text": [
            "India GPE\n",
            "one CARDINAL\n",
            "Indian NORP\n",
            "USD 84 billion MONEY\n",
            "2021 DATE\n",
            "USD 24 billion MONEY\n",
            "2017 DATE\n",
            "India GPE\n",
            "Philip PERSON\n",
            "12% PERCENT\n",
            "2017 DATE\n",
            "22-25% PERCENT\n",
            "2021 DATE\n",
            "India GPE\n",
            "Amazon ORG\n",
            "One CARDINAL\n",
            "Amazon ORG\n",
            "Amazon ORG\n",
            "Amazon Music Limited ORG\n",
            "2007 DATE\n",
            "Flipkart ORG\n",
            "Indian NORP\n",
            "Amazon ORG\n",
            "Walmart ORG\n",
            "one CARDINAL\n",
            "US GPE\n",
            "Amazon ORG\n",
            "2010 DATE\n",
            "2011 DATE\n",
            "more than 3 CARDINAL\n",
            "India GPE\n",
            "over 30 million CARDINAL\n",
            "800 CARDINAL\n",
            "over 125,000 CARDINAL\n",
            "Indian NORP\n",
            "recent years DATE\n",
            "Freecharge PERSON\n",
            "Unicommerce GPE\n",
            "ShopClues PRODUCT\n",
            "Indian NORP\n",
            "ShopClues PRODUCT\n",
            "July 2011 DATE\n",
            "Gurugram ORG\n",
            "1.1 billion CARDINAL\n",
            "Nexus Venture Partners ORG\n",
            "Tiger Global PERSON\n",
            "Helion Ventures ORG\n",
            "more than 5 CARDINAL\n",
            "nine CARDINAL\n",
            "Paytm Mall PERSON\n",
            "Paytm PERSON\n",
            "Paytm Mall PERSON\n",
            "third ORDINAL\n",
            "Reliance Retail PERSON\n",
            "Reliance Jio PERSON\n",
            "Indian NORP\n",
            "Reliance ORG\n",
            "Reliance ORG\n",
            "India GPE\n",
            "two CARDINAL\n",
            "One CARDINAL\n",
            "Grofers ORG\n",
            "2013 DATE\n",
            "the last 5 years DATE\n",
            "daily DATE\n",
            "India GPE\n",
            "Indian NORP\n",
            "Digital Mall of Asia – Going live FAC\n",
            "2020 DATE\n",
            "Digital Mall of Asia FAC\n",
            "Yokeasia GPE\n",
            "zero CARDINAL\n",
            "monthly DATE\n",
            "one CARDINAL\n",
            "DMA ORG\n"
          ]
        }
      ]
    },
    {
      "cell_type": "code",
      "source": [
        "# Load pre-existing spacy model\n",
        "import spacy\n",
        "nlp=spacy.load('en_core_web_sm')\n",
        "\n",
        "# Getting the pipeline component\n",
        "ner=nlp.get_pipe(\"ner\")"
      ],
      "metadata": {
        "id": "fV6xgiSnBhwb"
      },
      "execution_count": 1,
      "outputs": []
    },
    {
      "cell_type": "code",
      "source": [
        "# training data\n",
        "TRAIN_DATA = [\n",
        "              (\"Walmart is a leading e-commerce company\", {\"entities\": [(0, 7, \"ORG\")]}),\n",
        "              (\"I reached Chennai yesterday.\", {\"entities\": [(19, 28, \"GPE\")]}),\n",
        "              (\"I recently ordered a book from Amazon\", {\"entities\": [(24,32, \"ORG\")]}),\n",
        "              (\"I was driving a BMW\", {\"entities\": [(16,19, \"PRODUCT\")]}),\n",
        "              (\"I ordered this from ShopClues\", {\"entities\": [(20,29, \"ORG\")]}),\n",
        "              (\"Fridge can be ordered in Amazon \", {\"entities\": [(0,6, \"PRODUCT\")]}),\n",
        "              (\"I bought a new Washer\", {\"entities\": [(16,22, \"PRODUCT\")]}),\n",
        "              (\"I bought a old table\", {\"entities\": [(16,21, \"PRODUCT\")]}),\n",
        "              (\"I bought a fancy dress\", {\"entities\": [(18,23, \"PRODUCT\")]}),\n",
        "              (\"I rented a camera\", {\"entities\": [(12,18, \"PRODUCT\")]}),\n",
        "              (\"I rented a tent for our trip\", {\"entities\": [(12,16, \"PRODUCT\")]}),\n",
        "              (\"I rented a screwdriver from our neighbour\", {\"entities\": [(12,22, \"PRODUCT\")]}),\n",
        "              (\"I repaired my computer\", {\"entities\": [(15,23, \"PRODUCT\")]}),\n",
        "              (\"I got my clock fixed\", {\"entities\": [(16,21, \"PRODUCT\")]}),\n",
        "              (\"I got my truck fixed\", {\"entities\": [(16,21, \"PRODUCT\")]}),\n",
        "              (\"Flipkart started it's journey from zero\", {\"entities\": [(0,8, \"ORG\")]}),\n",
        "              (\"I recently ordered from Max\", {\"entities\": [(24,27, \"ORG\")]}),\n",
        "              (\"Flipkart is recognized as leader in market\",{\"entities\": [(0,8, \"ORG\")]}),\n",
        "              (\"I recently ordered from Swiggy\", {\"entities\": [(24,29, \"ORG\")]})\n",
        "              ]"
      ],
      "metadata": {
        "id": "fPUnMQ_xBqhe"
      },
      "execution_count": 2,
      "outputs": []
    },
    {
      "cell_type": "code",
      "source": [
        "# Adding labels to the `ner`\n",
        "\n",
        "for _, annotations in TRAIN_DATA:\n",
        "  for ent in annotations.get(\"entities\"):\n",
        "    ner.add_label(ent[2])"
      ],
      "metadata": {
        "id": "0jyk6oTtB1xa"
      },
      "execution_count": 3,
      "outputs": []
    },
    {
      "cell_type": "code",
      "source": [
        "# Disable pipeline components you dont need to change\n",
        "pipe_exceptions = [\"ner\", \"trf_wordpiecer\", \"trf_tok2vec\"]\n",
        "unaffected_pipes = [pipe for pipe in nlp.pipe_names if pipe not in pipe_exceptions]"
      ],
      "metadata": {
        "id": "fhSEgTA8CBvY"
      },
      "execution_count": 4,
      "outputs": []
    },
    {
      "cell_type": "code",
      "source": [
        "from spacy.training.example import Example\n",
        "\n",
        "# TRAINING THE MODEL\n",
        "with nlp.disable_pipes(*unaffected_pipes):\n",
        "\n",
        "    # Training for 30 iterations\n",
        "    for iteration in range(30):\n",
        "\n",
        "        # shuffling examples before every iteration\n",
        "        random.shuffle(TRAIN_DATA)\n",
        "        losses = {}\n",
        "\n",
        "        # batch up the examples using spaCy's minibatch\n",
        "        batches = minibatch(TRAIN_DATA, size=compounding(4.0, 32.0, 1.001))\n",
        "\n",
        "        for batch in batches:\n",
        "            examples = []\n",
        "            for text, annotations in batch:\n",
        "                example = Example.from_dict(nlp.make_doc(text), annotations)\n",
        "                examples.append(example)\n",
        "\n",
        "            nlp.update(\n",
        "                examples,  # batch of Example objects\n",
        "                drop=0.5,  # dropout - make it harder to memorise data\n",
        "                losses=losses,\n",
        "            )\n",
        "            print(\"Losses\", losses)\n"
      ],
      "metadata": {
        "colab": {
          "base_uri": "https://localhost:8080/"
        },
        "id": "K2VVDq_1C3jB",
        "outputId": "ddb5b143-e55f-4686-9254-6f6aa0adf360"
      },
      "execution_count": 6,
      "outputs": [
        {
          "output_type": "stream",
          "name": "stderr",
          "text": [
            "/usr/local/lib/python3.10/dist-packages/spacy/training/iob_utils.py:149: UserWarning: [W030] Some entities could not be aligned in the text \"I recently ordered a book from Amazon\" with entities \"[(24, 32, 'ORG')]\". Use `spacy.training.offsets_to_biluo_tags(nlp.make_doc(text), entities)` to check the alignment. Misaligned entities ('-') will be ignored during training.\n",
            "  warnings.warn(\n",
            "/usr/local/lib/python3.10/dist-packages/spacy/training/iob_utils.py:149: UserWarning: [W030] Some entities could not be aligned in the text \"I bought a new Washer\" with entities \"[(16, 22, 'PRODUCT')]\". Use `spacy.training.offsets_to_biluo_tags(nlp.make_doc(text), entities)` to check the alignment. Misaligned entities ('-') will be ignored during training.\n",
            "  warnings.warn(\n",
            "/usr/local/lib/python3.10/dist-packages/spacy/training/iob_utils.py:149: UserWarning: [W030] Some entities could not be aligned in the text \"I bought a old table\" with entities \"[(16, 21, 'PRODUCT')]\". Use `spacy.training.offsets_to_biluo_tags(nlp.make_doc(text), entities)` to check the alignment. Misaligned entities ('-') will be ignored during training.\n",
            "  warnings.warn(\n",
            "/usr/local/lib/python3.10/dist-packages/spacy/training/iob_utils.py:149: UserWarning: [W030] Some entities could not be aligned in the text \"I bought a fancy dress\" with entities \"[(18, 23, 'PRODUCT')]\". Use `spacy.training.offsets_to_biluo_tags(nlp.make_doc(text), entities)` to check the alignment. Misaligned entities ('-') will be ignored during training.\n",
            "  warnings.warn(\n",
            "/usr/local/lib/python3.10/dist-packages/spacy/training/iob_utils.py:149: UserWarning: [W030] Some entities could not be aligned in the text \"I got my truck fixed\" with entities \"[(16, 21, 'PRODUCT')]\". Use `spacy.training.offsets_to_biluo_tags(nlp.make_doc(text), entities)` to check the alignment. Misaligned entities ('-') will be ignored during training.\n",
            "  warnings.warn(\n",
            "/usr/local/lib/python3.10/dist-packages/spacy/training/iob_utils.py:149: UserWarning: [W030] Some entities could not be aligned in the text \"I rented a camera\" with entities \"[(12, 18, 'PRODUCT')]\". Use `spacy.training.offsets_to_biluo_tags(nlp.make_doc(text), entities)` to check the alignment. Misaligned entities ('-') will be ignored during training.\n",
            "  warnings.warn(\n",
            "/usr/local/lib/python3.10/dist-packages/spacy/training/iob_utils.py:149: UserWarning: [W030] Some entities could not be aligned in the text \"I got my clock fixed\" with entities \"[(16, 21, 'PRODUCT')]\". Use `spacy.training.offsets_to_biluo_tags(nlp.make_doc(text), entities)` to check the alignment. Misaligned entities ('-') will be ignored during training.\n",
            "  warnings.warn(\n"
          ]
        },
        {
          "output_type": "stream",
          "name": "stdout",
          "text": [
            "Losses {'ner': 2.0498576430612094}\n",
            "Losses {'ner': 2.0873427102363213}\n",
            "Losses {'ner': 8.72569652527573}\n"
          ]
        },
        {
          "output_type": "stream",
          "name": "stderr",
          "text": [
            "/usr/local/lib/python3.10/dist-packages/spacy/training/iob_utils.py:149: UserWarning: [W030] Some entities could not be aligned in the text \"I rented a screwdriver from our neighbour\" with entities \"[(12, 22, 'PRODUCT')]\". Use `spacy.training.offsets_to_biluo_tags(nlp.make_doc(text), entities)` to check the alignment. Misaligned entities ('-') will be ignored during training.\n",
            "  warnings.warn(\n",
            "/usr/local/lib/python3.10/dist-packages/spacy/training/iob_utils.py:149: UserWarning: [W030] Some entities could not be aligned in the text \"I repaired my computer\" with entities \"[(15, 23, 'PRODUCT')]\". Use `spacy.training.offsets_to_biluo_tags(nlp.make_doc(text), entities)` to check the alignment. Misaligned entities ('-') will be ignored during training.\n",
            "  warnings.warn(\n",
            "/usr/local/lib/python3.10/dist-packages/spacy/training/iob_utils.py:149: UserWarning: [W030] Some entities could not be aligned in the text \"I reached Chennai yesterday.\" with entities \"[(19, 28, 'GPE')]\". Use `spacy.training.offsets_to_biluo_tags(nlp.make_doc(text), entities)` to check the alignment. Misaligned entities ('-') will be ignored during training.\n",
            "  warnings.warn(\n",
            "/usr/local/lib/python3.10/dist-packages/spacy/training/iob_utils.py:149: UserWarning: [W030] Some entities could not be aligned in the text \"I rented a tent for our trip\" with entities \"[(12, 16, 'PRODUCT')]\". Use `spacy.training.offsets_to_biluo_tags(nlp.make_doc(text), entities)` to check the alignment. Misaligned entities ('-') will be ignored during training.\n",
            "  warnings.warn(\n",
            "/usr/local/lib/python3.10/dist-packages/spacy/training/iob_utils.py:149: UserWarning: [W030] Some entities could not be aligned in the text \"I recently ordered from Swiggy\" with entities \"[(24, 29, 'ORG')]\". Use `spacy.training.offsets_to_biluo_tags(nlp.make_doc(text), entities)` to check the alignment. Misaligned entities ('-') will be ignored during training.\n",
            "  warnings.warn(\n"
          ]
        },
        {
          "output_type": "stream",
          "name": "stdout",
          "text": [
            "Losses {'ner': 12.654341198000388}\n",
            "Losses {'ner': 13.31877835941975}\n",
            "Losses {'ner': 0.755385884925829}\n",
            "Losses {'ner': 2.043475008950111}\n",
            "Losses {'ner': 4.076774314045946}\n",
            "Losses {'ner': 7.606879805460822}\n",
            "Losses {'ner': 10.672010099212507}\n",
            "Losses {'ner': 4.359165592958972}\n",
            "Losses {'ner': 4.404501046373875}\n",
            "Losses {'ner': 4.435226058819206}\n",
            "Losses {'ner': 9.132018587932096}\n",
            "Losses {'ner': 14.236215807704104}\n",
            "Losses {'ner': 2.7121846384783295}\n",
            "Losses {'ner': 2.7995137162903445}\n",
            "Losses {'ner': 6.0485670956633255}\n",
            "Losses {'ner': 8.072169551545368}\n",
            "Losses {'ner': 8.400642694165992}\n",
            "Losses {'ner': 0.023534103503098702}\n",
            "Losses {'ner': 4.44733531985543}\n",
            "Losses {'ner': 4.570013083602664}\n",
            "Losses {'ner': 4.582325248901615}\n",
            "Losses {'ner': 4.742558261272674}\n",
            "Losses {'ner': 3.524761070808367}\n",
            "Losses {'ner': 3.590277191199924}\n",
            "Losses {'ner': 3.590490310865954}\n",
            "Losses {'ner': 5.698871753017092}\n",
            "Losses {'ner': 5.698904086220497}\n",
            "Losses {'ner': 5.503173229671262}\n",
            "Losses {'ner': 5.503241517949571}\n",
            "Losses {'ner': 5.506783602283142}\n",
            "Losses {'ner': 6.232148696764559}\n",
            "Losses {'ner': 6.2321785605823585}\n",
            "Losses {'ner': 0.07956535404366519}\n",
            "Losses {'ner': 0.0795807711427392}\n",
            "Losses {'ner': 1.6387280789383716}\n",
            "Losses {'ner': 2.4387664202703108}\n",
            "Losses {'ner': 2.639692112609579}\n",
            "Losses {'ner': 2.0896250885253953}\n",
            "Losses {'ner': 2.5875714545356363}\n",
            "Losses {'ner': 4.062932010969333}\n",
            "Losses {'ner': 5.381266486246735}\n",
            "Losses {'ner': 5.412050797502124}\n",
            "Losses {'ner': 0.0001446809238438828}\n",
            "Losses {'ner': 2.114068579506524}\n",
            "Losses {'ner': 2.1158181787147177}\n",
            "Losses {'ner': 2.1158231785623887}\n",
            "Losses {'ner': 2.3303964800125767}\n",
            "Losses {'ner': 8.242509556418716e-05}\n",
            "Losses {'ner': 0.03563528004585548}\n",
            "Losses {'ner': 0.13650269819591754}\n",
            "Losses {'ner': 1.6284627191637564}\n",
            "Losses {'ner': 1.6284663239042194}\n",
            "Losses {'ner': 1.4635785285642278}\n",
            "Losses {'ner': 1.465118260070717}\n",
            "Losses {'ner': 1.467344454597781}\n",
            "Losses {'ner': 2.6437357259608385}\n",
            "Losses {'ner': 3.806591121710135}\n",
            "Losses {'ner': 0.003685295365466411}\n",
            "Losses {'ner': 0.0036933427155987756}\n",
            "Losses {'ner': 0.009192367530005885}\n",
            "Losses {'ner': 0.07860924173885342}\n",
            "Losses {'ner': 0.07860929459586738}\n",
            "Losses {'ner': 0.31080759635361693}\n",
            "Losses {'ner': 1.6704110865801214}\n",
            "Losses {'ner': 1.6704110867132949}\n",
            "Losses {'ner': 1.6720172160389093}\n",
            "Losses {'ner': 1.6749203999803408}\n",
            "Losses {'ner': 3.574146310401623e-05}\n",
            "Losses {'ner': 0.013350955485018943}\n",
            "Losses {'ner': 0.09293709272773851}\n",
            "Losses {'ner': 0.09296902906882679}\n",
            "Losses {'ner': 1.512794965626192}\n",
            "Losses {'ner': 0.11666931883967563}\n",
            "Losses {'ner': 0.3121910565164753}\n",
            "Losses {'ner': 0.5086084113644663}\n",
            "Losses {'ner': 0.7557021942976843}\n",
            "Losses {'ner': 0.7557033641671388}\n",
            "Losses {'ner': 1.233612104347951}\n",
            "Losses {'ner': 3.7653389993067545}\n",
            "Losses {'ner': 5.184018607845471}\n",
            "Losses {'ner': 5.184052527589743}\n",
            "Losses {'ner': 5.184067526649813}\n",
            "Losses {'ner': 0.0006688195596948451}\n",
            "Losses {'ner': 0.000668822367089681}\n",
            "Losses {'ner': 0.03334774944355012}\n",
            "Losses {'ner': 0.3033276704266812}\n",
            "Losses {'ner': 0.30337638926192795}\n",
            "Losses {'ner': 0.7187733216608333}\n",
            "Losses {'ner': 0.8958873132406091}\n",
            "Losses {'ner': 0.9006421266363005}\n",
            "Losses {'ner': 0.9006451939320747}\n",
            "Losses {'ner': 0.9006451939941712}\n",
            "Losses {'ner': 1.8501555873447868}\n",
            "Losses {'ner': 1.8531334689412848}\n",
            "Losses {'ner': 1.8531339611663025}\n",
            "Losses {'ner': 1.8615363701723253}\n",
            "Losses {'ner': 1.8615816980419282}\n",
            "Losses {'ner': 0.12052435842181948}\n",
            "Losses {'ner': 0.12052936610570784}\n",
            "Losses {'ner': 0.12062600690494245}\n",
            "Losses {'ner': 0.12062639577875803}\n",
            "Losses {'ner': 0.12193711836016738}\n",
            "Losses {'ner': 0.080473901843579}\n",
            "Losses {'ner': 1.8894070650210752}\n",
            "Losses {'ner': 1.8894437567806053}\n",
            "Losses {'ner': 1.8894438278322623}\n",
            "Losses {'ner': 1.9068271395489331}\n",
            "Losses {'ner': 4.5651936627149815e-05}\n",
            "Losses {'ner': 0.003566424923329594}\n",
            "Losses {'ner': 0.0035795578538505004}\n",
            "Losses {'ner': 0.0035795583828767976}\n",
            "Losses {'ner': 0.00357956744364192}\n",
            "Losses {'ner': 4.8152455374934213e-08}\n",
            "Losses {'ner': 9.141293821110857e-05}\n",
            "Losses {'ner': 1.932352165556356}\n",
            "Losses {'ner': 1.933863693734738}\n",
            "Losses {'ner': 2.2793039411818325}\n",
            "Losses {'ner': 1.8437194596442872e-05}\n",
            "Losses {'ner': 0.404665444463134}\n",
            "Losses {'ner': 0.4047235386509279}\n",
            "Losses {'ner': 0.40472365078302386}\n",
            "Losses {'ner': 0.4047297429132496}\n",
            "Losses {'ner': 0.00034826151928113815}\n",
            "Losses {'ner': 0.00034964218392238795}\n",
            "Losses {'ner': 0.0003496427930805542}\n",
            "Losses {'ner': 0.0003579223462232985}\n",
            "Losses {'ner': 0.0005817347513493508}\n",
            "Losses {'ner': 3.0417946063801996e-06}\n",
            "Losses {'ner': 3.1753311185625564e-06}\n",
            "Losses {'ner': 3.1763147625200617e-06}\n",
            "Losses {'ner': 0.021903258403371248}\n",
            "Losses {'ner': 0.021908030887792997}\n",
            "Losses {'ner': 4.069972182388145e-08}\n",
            "Losses {'ner': 0.002891888251516756}\n",
            "Losses {'ner': 0.0029329001152046275}\n",
            "Losses {'ner': 0.002933204287031871}\n",
            "Losses {'ner': 0.00293351947851611}\n",
            "Losses {'ner': 1.3714387737878843e-11}\n",
            "Losses {'ner': 1.988714822452323}\n",
            "Losses {'ner': 1.9887151165251884}\n",
            "Losses {'ner': 1.9887160046911339}\n",
            "Losses {'ner': 1.9887876872709338}\n",
            "Losses {'ner': 4.324328052298605e-09}\n",
            "Losses {'ner': 9.31236413438546e-06}\n",
            "Losses {'ner': 2.027901276254664}\n",
            "Losses {'ner': 2.0279019492495394}\n",
            "Losses {'ner': 2.0279043185385297}\n"
          ]
        }
      ]
    },
    {
      "cell_type": "code",
      "source": [
        "# Testing the model\n",
        "doc = nlp(\"yesterday i was driving my Sonet in Mumbai's Bandra\")\n",
        "print(\"Entities\", [(ent.text, ent.label_) for ent in doc.ents])"
      ],
      "metadata": {
        "colab": {
          "base_uri": "https://localhost:8080/"
        },
        "id": "Z2L0bHZBEePY",
        "outputId": "93240ac0-3c72-4253-fd26-9bd6283dbbea"
      },
      "execution_count": 11,
      "outputs": [
        {
          "output_type": "stream",
          "name": "stdout",
          "text": [
            "Entities [('yesterday', 'DATE'), ('Mumbai', 'GPE'), ('Bandra', 'ORG')]\n"
          ]
        }
      ]
    },
    {
      "cell_type": "code",
      "source": [
        "# Save the  model to directory\n",
        "output_dir = Path('/content/')\n",
        "nlp.to_disk(output_dir)\n",
        "print(\"Saved model to\", output_dir)\n",
        "\n",
        "# Load the saved model and predict\n",
        "print(\"Loading from\", output_dir)\n",
        "nlp_updated = spacy.load(output_dir)\n",
        "doc = nlp_updated(\"Fridge can be ordered in FlipKart\" )\n",
        "print(\"Entities\", [(ent.text, ent.label_) for ent in doc.ents])"
      ],
      "metadata": {
        "colab": {
          "base_uri": "https://localhost:8080/"
        },
        "id": "3wzWF-zDFRHq",
        "outputId": "60a656ea-564f-494f-f2c4-1ccf47edc624"
      },
      "execution_count": 12,
      "outputs": [
        {
          "output_type": "stream",
          "name": "stdout",
          "text": [
            "Saved model to /content\n",
            "Loading from /content\n",
            "Entities [('Fridge', 'PRODUCT'), ('FlipKart', 'ORG')]\n"
          ]
        }
      ]
    }
  ],
  "metadata": {
    "colab": {
      "provenance": [],
      "authorship_tag": "ABX9TyO5umtyZJtwStWUl/PD7uZf",
      "include_colab_link": true
    },
    "kernelspec": {
      "display_name": "Python 3",
      "name": "python3"
    },
    "language_info": {
      "name": "python"
    }
  },
  "nbformat": 4,
  "nbformat_minor": 0
}